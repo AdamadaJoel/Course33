{
 "cells": [
  {
   "cell_type": "markdown",
   "id": "95733aeb-d07f-423d-ba5e-bf866d5f9a81",
   "metadata": {},
   "source": [
    "# Data Science Tools and Ecosystem"
   ]
  },
  {
   "cell_type": "markdown",
   "id": "208934e2-4a9d-4ec5-a248-327727248000",
   "metadata": {
    "tags": []
   },
   "source": [
    "## In this notebook, Data Science Tools and Ecosystem are summarized."
   ]
  },
  {
   "cell_type": "markdown",
   "id": "c76333ed-d279-4ae1-b9fc-3e4e44f47460",
   "metadata": {},
   "source": [
    "## ***Objectives:***\n",
    "* Popular languages for Data Science Python, R, C++\n",
    "* Some of the commonly used libraries include Pandas, MatPlotLib, NumPy\n",
    "* Features of Jupiter Notebooks"
   ]
  },
  {
   "cell_type": "markdown",
   "id": "61767afa-d3e5-4011-93db-b15365bccc14",
   "metadata": {},
   "source": [
    "## Some of the popular languages that Data Scientists use are:\n",
    "## 1. Python\n",
    "## 2. R\n",
    "## 3. C++"
   ]
  },
  {
   "cell_type": "markdown",
   "id": "410147ea-7627-485c-9e26-642f08fe041a",
   "metadata": {},
   "source": [
    "## Some of the commonly used libraries used by Data Scientists include:\n",
    "## 1. Pandas\n",
    "## 2. NumPy\n",
    "## 3. Matplotlib"
   ]
  },
  {
   "cell_type": "markdown",
   "id": "05c257df-4a2f-405e-8d51-7130d980f967",
   "metadata": {},
   "source": [
    "| Data Science Tools | \n",
    "| -------------|\n",
    "| RStudio |\n",
    "| Apache Spark |\n",
    "| TensorFlow |"
   ]
  },
  {
   "cell_type": "markdown",
   "id": "c24831cd-3a74-4d67-875f-399437614146",
   "metadata": {},
   "source": [
    "### Below are a few examples of evaluating arithmetic expressions in Python"
   ]
  },
  {
   "cell_type": "markdown",
   "id": "c8c7290b-9b7e-4008-a9ba-d52806bb7673",
   "metadata": {},
   "source": [
    "### This a simple arithmetic expression to mutiply then add integers"
   ]
  },
  {
   "cell_type": "code",
   "execution_count": 1,
   "id": "363e4ceb-3156-4027-9701-5d590fd0bcac",
   "metadata": {
    "tags": []
   },
   "outputs": [
    {
     "data": {
      "text/plain": [
       "17"
      ]
     },
     "execution_count": 1,
     "metadata": {},
     "output_type": "execute_result"
    }
   ],
   "source": [
    "(3*4)+5"
   ]
  },
  {
   "cell_type": "markdown",
   "id": "4b335c15-779c-4473-92cb-5e75443ab126",
   "metadata": {},
   "source": [
    "### Number of hours = 200/60\n",
    "### This will convert 200 minutes to hours by diving by 60"
   ]
  },
  {
   "cell_type": "code",
   "execution_count": 3,
   "id": "5ae8e6ac-8b5e-4100-ba89-cebdd4bc7939",
   "metadata": {
    "tags": []
   },
   "outputs": [
    {
     "data": {
      "text/plain": [
       "3.3333333333333335"
      ]
     },
     "execution_count": 3,
     "metadata": {},
     "output_type": "execute_result"
    }
   ],
   "source": [
    "200/60"
   ]
  },
  {
   "cell_type": "markdown",
   "id": "e28ecedb-f9ef-42f1-b614-68b0d5dc923d",
   "metadata": {},
   "source": [
    "## Author\n",
    "Adamada Joel"
   ]
  },
  {
   "cell_type": "code",
   "execution_count": null,
   "id": "65bc7d7d-47ca-4661-b096-13bb9455caab",
   "metadata": {},
   "outputs": [],
   "source": []
  }
 ],
 "metadata": {
  "kernelspec": {
   "display_name": "Python",
   "language": "python",
   "name": "conda-env-python-py"
  },
  "language_info": {
   "codemirror_mode": {
    "name": "ipython",
    "version": 3
   },
   "file_extension": ".py",
   "mimetype": "text/x-python",
   "name": "python",
   "nbconvert_exporter": "python",
   "pygments_lexer": "ipython3",
   "version": "3.7.12"
  }
 },
 "nbformat": 4,
 "nbformat_minor": 5
}
